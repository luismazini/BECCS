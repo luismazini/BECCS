{
 "cells": [
  {
   "cell_type": "code",
   "execution_count": 1,
   "metadata": {},
   "outputs": [],
   "source": [
    "import plotly.graph_objects as go"
   ]
  },
  {
   "cell_type": "code",
   "execution_count": 2,
   "metadata": {},
   "outputs": [],
   "source": [
    "###FUNCTIONS###\n",
    "def exergy_destruction(q_ex, w_ex, m_ex):\n",
    "    '''\n",
    "    Calculates the exergy destruction in kW\n",
    "\n",
    "    :param list q_ex: list of exergies from heat\n",
    "    :param list w_ex: list of exergies from power\n",
    "    :param list m_ex list of exergies from massflow\n",
    "    :return: the exergy destruction in kW\n",
    "    '''\n",
    "    q_sum, w_sum, m_sum = 0, 0, 0 #initiate the dummy variables to sum the exergy contents\n",
    "    if q_ex!=0:\n",
    "        #loop that calculates the sum of heat exergy contents\n",
    "        q_sum = sum(q_ex)\n",
    "    if w_ex!=0:\n",
    "        #loop that calculates the sum of work exergy contents   \n",
    "            w_sum = sum(w_ex)\n",
    "    if m_ex!=0:\n",
    "        #loop that calculates the sum of mass flow exergy contents   \n",
    "            m_sum = sum(m_ex)\n",
    "    return q_sum - w_sum + m_sum\n",
    "\n",
    "ex_dest = list()"
   ]
  },
  {
   "cell_type": "code",
   "execution_count": 3,
   "metadata": {},
   "outputs": [],
   "source": [
    "#Sub-system I—Juice extraction\n",
    "\n",
    "mass1 = [ #exergy content of massflow in kW\n",
    "    735712,  #sugarcane\n",
    "    37089,   #washing water\n",
    "    3378,    #imbibition water\n",
    "    35658,   #high-pressure steam\n",
    "    -333098, #raw juice\n",
    "    -387413, #bagasse\n",
    "    -22860   #low-pressure steam\n",
    "]\n",
    "\n",
    "work1 = [\n",
    "    -1250 #electricity to power sub1\n",
    "]\n",
    "\n",
    "ex_dest.append(exergy_destruction(0, work1, mass1))"
   ]
  },
  {
   "cell_type": "code",
   "execution_count": 4,
   "metadata": {},
   "outputs": [],
   "source": [
    "#Sub-system II—Juice treatment\n",
    "\n",
    "mass2 = [ #exergy content of massflow in kW\n",
    "    333098,  #juice\n",
    "    551,     #sulfur\n",
    "    6,       #phosphoric acid\n",
    "    428,     #lime\n",
    "    307,     #filter washing water\n",
    "    13101,   #exhaust steam\n",
    "    -335172, #treated juice\n",
    "    -2170    #condensate to boiler\n",
    "]\n",
    "\n",
    "work2 = [\n",
    "    -1000 #electricity to power sub2\n",
    "]\n",
    "\n",
    "ex_dest.append(exergy_destruction(0, work2, mass2))"
   ]
  },
  {
   "cell_type": "code",
   "execution_count": 5,
   "metadata": {},
   "outputs": [],
   "source": [
    "#Sub-system III—Juice evaporation\n",
    "\n",
    "mass3 = [ #exergy content of massflow in kW\n",
    "    218976,  #treated juice\n",
    "    10895,   #exhaust steam\n",
    "    21328,   #water for vacuum system\n",
    "    -163075, #Syrup for sugar process\n",
    "    -49964,  #Syrup for ethanol process\n",
    "    -1804,   #Condensate to the boiler\n",
    "    -1280,   #Condensate from vapour of 1st effect\n",
    "    -1263,   #Condensate from vapour of 2nd effect\n",
    "    -1236,   #Condensate from vapour of 3rd effect\n",
    "    -1159,   #Condensate from vapour of 4th effect\n",
    "    -24227   #Condensate from the vacuum system\n",
    "]\n",
    "\n",
    "work3 = [\n",
    "    -750 #electricity to power sub3\n",
    "]\n",
    "\n",
    "ex_dest.append(exergy_destruction(0, work3, mass3))"
   ]
  },
  {
   "cell_type": "code",
   "execution_count": 6,
   "metadata": {},
   "outputs": [],
   "source": [
    "#Sub-system IV—Sugar boiling, crystallization and drying\n",
    "\n",
    "mass4 = [ #exergy content of massflow in kW\n",
    "    163075,  #Syrup for sugar process\n",
    "    7078,    #Exhaust steam\n",
    "    231,     #Condensates for centrifuges and dilution\n",
    "    9083,    #Water for vacuum system\n",
    "    -123301, #Sugar\n",
    "    -38722,  #Molasses\n",
    "    -1172,   #Condensate to the boiler\n",
    "    -10319  #Condensate from the vacuum system\n",
    "]\n",
    "\n",
    "work4 = [\n",
    "    -2250 #electricity to power sub4\n",
    "]\n",
    "\n",
    "ex_dest.append(exergy_destruction(0, work4, mass4))"
   ]
  },
  {
   "cell_type": "code",
   "execution_count": 7,
   "metadata": {},
   "outputs": [],
   "source": [
    "#Sub-system V—Fermentation\n",
    "\n",
    "mass5 = [ #exergy content of massflow in kW\n",
    "    49964,   #Syrup for ethanol process\n",
    "    116196,  #Treated juice\n",
    "    38722,   #Molasses\n",
    "    185,     #Water for scrubber\n",
    "    20877,   #Water for cooling system\n",
    "    -141526, #Fermented liquor\n",
    "    -22835   #Water from cooling system\n",
    "]\n",
    "\n",
    "work5 = [\n",
    "    -375 #electricity to power sub5\n",
    "]\n",
    "\n",
    "ex_dest.append(exergy_destruction(0, work5, mass5))"
   ]
  },
  {
   "cell_type": "code",
   "execution_count": 8,
   "metadata": {},
   "outputs": [],
   "source": [
    "#Sub-system VI—Distillation\n",
    "\n",
    "mass6 = [ #exergy content of massflow in kW\n",
    "    141526,  #Fermented liquor\n",
    "    19083,   #Exhaust steam\n",
    "    27836,   #Water for cooling system\n",
    "    -134068, #Anhydrous ethanol\n",
    "    -30447,  #Water from cooling system\n",
    "    -3160    #Condensate to the boiler\n",
    "]\n",
    "\n",
    "work6 = [\n",
    "    -375 #electricity to power sub6\n",
    "]\n",
    "\n",
    "ex_dest.append(exergy_destruction(0, work6, mass6))"
   ]
  },
  {
   "cell_type": "code",
   "execution_count": 9,
   "metadata": {},
   "outputs": [],
   "source": [
    "#Sub-system VII—Cogeneration system\n",
    "\n",
    "mass7 = [ #exergy content of massflow in kW\n",
    "    387302,  #Bagasse\n",
    "    190,     #Make up water\n",
    "    22860,   #Return of exhausted steam from mills\n",
    "    8318,    #Return of condensate from the process\n",
    "    -35658,  #High-pressure steam\n",
    "    -50213  #Exhausted steam\n",
    "]\n",
    "\n",
    "work7 = [\n",
    "    6000, #electricity to the process\n",
    "    8222  #electricity surplus\n",
    "]\n",
    "\n",
    "ex_dest.append(exergy_destruction(0, work7, mass7))"
   ]
  },
  {
   "cell_type": "code",
   "execution_count": 10,
   "metadata": {},
   "outputs": [],
   "source": [
    "#Sub-system VIII—Condensate tank and water-cooling system\n",
    "\n",
    "mass8 = [ #exergy content of massflow in kW\n",
    "    22835,   #Condensate from fermentation cooling system\n",
    "    30447,   #Condensate from distillation cooling system\n",
    "    24227,   #Condensate from evaporation vacuum system\n",
    "    10319,   #Condensate from sugar boiling vacuum system\n",
    "    1280,    #Condensate from vapour of 1st effect\n",
    "    1263,    #Condensate from vapour of 2nd effect\n",
    "    1236,    #Condensate from vapour of 3rd effect\n",
    "    1159,    #Condensate from vapour of 4th effect\n",
    "    40020,   #Make up water\n",
    "    -309, #Filter washing water\n",
    "    -3378,  #Imbibitions water\n",
    "    -231,    #Water for centrifuges and dilution\n",
    "    -37089,  #Water for cane washing\n",
    "    -21328,  #Water for evaporation vacuum system\n",
    "    -9083,   #Water for sugar boiling vacuum system\n",
    "    -20877,  #Water for fermentation cooling system\n",
    "    -27836   #Water for distillation cooling system\n",
    "]\n",
    "\n",
    "ex_dest.append(exergy_destruction(0, 0, mass8))\n"
   ]
  },
  {
   "cell_type": "code",
   "execution_count": 3,
   "metadata": {},
   "outputs": [],
   "source": [
    "ls = [\n",
    "    'sugarcane',\n",
    "    'juice extraction', \n",
    "    'sulphur', \n",
    "    'phosphoric acid',\n",
    "    'lime',\n",
    "    'juice treatment',\n",
    "    'juice evaporation',\n",
    "    'sugar production',\n",
    "    'fermentation',\n",
    "    'distillation',\n",
    "    'cogeneration',\n",
    "    'water tank',\n",
    "    'exergy destruction',\n",
    "    'make up water',\n",
    "    'out'\n",
    "]\n",
    "\n",
    "source_sankey =[\n",
    "    0, 11, 11, 10, 10,        #1\n",
    "    1, 2, 3, 4, 11, 10, 10,   #5\n",
    "    5, 10, 11, 10,            #6\n",
    "    6, 10, 11, 11, 10,        #7\n",
    "    6, 5, 7, 11, 11, 10,      #8\n",
    "    8, 10, 11, 10,            #9\n",
    "    1, 13, 1, 5, 6, 7, 9,     #10\n",
    "    8, 9, 6, 7, 6, 13,        #11\n",
    "    1, 5, 6, 7, 8, 9, 10, 11, #12\n",
    "    9, 7, 10                  #14 \n",
    "]\n",
    "target_sankey = [\n",
    "    1, 1, 1, 1, 1, \n",
    "    5, 5, 5, 5, 5, 5, 5, \n",
    "    6, 6, 6, 6, \n",
    "    7, 7, 7, 7, 7, \n",
    "    8, 8, 8, 8, 8, 8, \n",
    "    9, 9, 9, 9, \n",
    "    10, 10, 10, 10, 10, 10, 10, \n",
    "    11, 11, 11, 11, 11, 11, \n",
    "    12, 12, 12, 12, 12, 12, 12, 12,\n",
    "    14, 14, 14\n",
    "]\n",
    "value_sankey = [\n",
    "    735712, 3378, 37089, 35658, 1250,                      #1\n",
    "    333098, 551, 6, 428, 307, 13101, 1000,                 #5\n",
    "    218976, 10895, 21328, 750,                             #6\n",
    "    163075, 7078, 231, 9083, 2250,                         #7\n",
    "    49964, 116196, 38471, 185, 20877, 375,                 #8\n",
    "    141442, 19083, 27836, 375,                             #9\n",
    "    387302, 190, 22860, 2170, 1804, 1172, 3160,            #10 \n",
    "    22835, 30447, 24227, 10319, 6218, 40020,               #11\n",
    "    69716, 11149, 7941, 8203, 61958, 21145, 318577, 12655, #12\n",
    "    134068, 123301, 8222                                   #14\n",
    "]\n",
    "label_sankey = [\n",
    "    'sugarcane',\n",
    "    'imbibition',\n",
    "    'washing water',\n",
    "    'high-pressure steam',\n",
    "    'electricity',\n",
    "    'raw juice',\n",
    "    'sulphur',\n",
    "    'phosphoric acid',\n",
    "    'lime',\n",
    "    'filter washing water',\n",
    "    'exhaust steam',\n",
    "    'electricity',\n",
    "    'treted juice',\n",
    "    'exhaust stream',\n",
    "    'water for vacuum system',\n",
    "    'electricity',\n",
    "    'syrup',\n",
    "    'exhaust steam',\n",
    "    'condensates for centrifugates and dilution',\n",
    "    'water for vacuum system',\n",
    "    'electricity',\n",
    "    'syrup',\n",
    "    'treated juice',\n",
    "    'molasses',\n",
    "    'water for scrubber',\n",
    "    'water for cooling system',\n",
    "    'electricity',\n",
    "    'wine',\n",
    "    'exhaust steam',\n",
    "    'water for cooling system',\n",
    "    'electricity',\n",
    "    'bagasse',\n",
    "    'make up water',\n",
    "    'low-pressure steam',\n",
    "    'condensate to the boiler',\n",
    "    'condensate to the boiler',\n",
    "    'condensate to the boiler',\n",
    "    'condensate to the boiler',\n",
    "    'condensate',\n",
    "    'condensate',\n",
    "    'condensate',\n",
    "    'condensate',\n",
    "    'condensates from 1st, 2nd, 3rd, and 4th effects',\n",
    "    'make up water',\n",
    "    'losses',\n",
    "    'losses',\n",
    "    'losses',\n",
    "    'losses',\n",
    "    'losses',\n",
    "    'losses',\n",
    "    'losses',\n",
    "    'losses',\n",
    "    'anhydrous ethanol',\n",
    "    'sugar',\n",
    "    'electricity surplus'\n",
    "]"
   ]
  },
  {
   "cell_type": "code",
   "execution_count": 41,
   "metadata": {},
   "outputs": [
    {
     "data": {
      "application/vnd.plotly.v1+json": {
       "config": {
        "plotlyServerURL": "https://plot.ly"
       },
       "data": [
        {
         "arrangement": "freeform",
         "link": {
          "color": [
           "rgba(44, 160, 44, 0.35)",
           "rgba(255, 127, 14, 0.35)",
           "rgba(255, 127, 14, 0.35)",
           "rgba(31, 119, 180, 0.35)",
           "rgba(31, 119, 180, 0.35)",
           "rgba(255, 127, 14, 0.35)",
           "rgba(44, 160, 44, 0.35)",
           "rgba(214, 39, 40, 0.35)",
           "rgba(148, 103, 189, 0.35)",
           "rgba(255, 127, 14, 0.35)",
           "rgba(31, 119, 180, 0.35)",
           "rgba(31, 119, 180, 0.35)",
           "rgba(140, 86, 75, 0.35)",
           "rgba(31, 119, 180, 0.35)",
           "rgba(255, 127, 14, 0.35)",
           "rgba(31, 119, 180, 0.35)",
           "rgba(227, 119, 194, 0.35)",
           "rgba(31, 119, 180, 0.35)",
           "rgba(255, 127, 14, 0.35)",
           "rgba(255, 127, 14, 0.35)",
           "rgba(31, 119, 180, 0.35)",
           "rgba(227, 119, 194, 0.35)",
           "rgba(140, 86, 75, 0.35)",
           "rgba(127, 127, 127, 0.35)",
           "rgba(255, 127, 14, 0.35)",
           "rgba(255, 127, 14, 0.35)",
           "rgba(31, 119, 180, 0.35)",
           "rgba(188, 189, 34, 0.35)",
           "rgba(31, 119, 180, 0.35)",
           "rgba(255, 127, 14, 0.35)",
           "rgba(31, 119, 180, 0.35)",
           "rgba(255, 127, 14, 0.35)",
           "rgba(31, 119, 180, 0.35)",
           "rgba(255, 127, 14, 0.35)",
           "rgba(140, 86, 75, 0.35)",
           "rgba(227, 119, 194, 0.35)",
           "rgba(127, 127, 127, 0.35)",
           "rgba(23, 190, 207, 0.35)",
           "rgba(188, 189, 34, 0.35)",
           "rgba(23, 190, 207, 0.35)",
           "rgba(227, 119, 194, 0.35)",
           "rgba(127, 127, 127, 0.35)",
           "rgba(227, 119, 194, 0.35)",
           "rgba(31, 119, 180, 0.35)",
           "rgba(214, 39, 40, 0.35)",
           "rgba(214, 39, 40, 0.35)",
           "rgba(214, 39, 40, 0.35)",
           "rgba(214, 39, 40, 0.35)",
           "rgba(214, 39, 40, 0.35)",
           "rgba(214, 39, 40, 0.35)",
           "rgba(214, 39, 40, 0.35)",
           "rgba(214, 39, 40, 0.35)",
           "rgba(23, 190, 207, 0.35)",
           "rgba(127, 127, 127, 0.35)",
           "rgba(31, 119, 180, 0.35)"
          ],
          "label": [
           "sugarcane",
           "imbibition",
           "washing water",
           "high-pressure steam",
           "electricity",
           "raw juice",
           "sulphur",
           "phosphoric acid",
           "lime",
           "filter washing water",
           "exhaust steam",
           "electricity",
           "treted juice",
           "exhaust stream",
           "water for vacuum system",
           "electricity",
           "syrup",
           "exhaust steam",
           "condensates for centrifugates and dilution",
           "water for vacuum system",
           "electricity",
           "syrup",
           "treated juice",
           "molasses",
           "water for scrubber",
           "water for cooling system",
           "electricity",
           "wine",
           "exhaust steam",
           "water for cooling system",
           "electricity",
           "bagasse",
           "make up water",
           "low-pressure steam",
           "condensate to the boiler",
           "condensate to the boiler",
           "condensate to the boiler",
           "condensate to the boiler",
           "condensate",
           "condensate",
           "condensate",
           "condensate",
           "condensates from 1st, 2nd, 3rd, and 4th effects",
           "make up water",
           "losses",
           "losses",
           "losses",
           "losses",
           "losses",
           "losses",
           "losses",
           "losses",
           "anhydrous ethanol",
           "sugar",
           "electricity surplus"
          ],
          "source": [
           0,
           11,
           11,
           10,
           10,
           1,
           2,
           3,
           4,
           11,
           10,
           10,
           5,
           10,
           11,
           10,
           6,
           10,
           11,
           11,
           10,
           6,
           5,
           7,
           11,
           11,
           10,
           8,
           10,
           11,
           10,
           1,
           13,
           1,
           5,
           6,
           7,
           9,
           8,
           9,
           6,
           7,
           6,
           13,
           1,
           5,
           6,
           7,
           8,
           9,
           10,
           11,
           9,
           7,
           10
          ],
          "target": [
           1,
           1,
           1,
           1,
           1,
           5,
           5,
           5,
           5,
           5,
           5,
           5,
           6,
           6,
           6,
           6,
           7,
           7,
           7,
           7,
           7,
           8,
           8,
           8,
           8,
           8,
           8,
           9,
           9,
           9,
           9,
           10,
           10,
           10,
           10,
           10,
           10,
           10,
           11,
           11,
           11,
           11,
           11,
           11,
           12,
           12,
           12,
           12,
           12,
           12,
           12,
           12,
           14,
           14,
           14
          ],
          "value": [
           735712,
           3378,
           37089,
           35658,
           1250,
           333098,
           551,
           6,
           428,
           307,
           13101,
           1000,
           218976,
           10895,
           21328,
           750,
           163075,
           7078,
           231,
           9083,
           2250,
           49964,
           116196,
           38471,
           185,
           20877,
           375,
           141442,
           19083,
           27836,
           375,
           387302,
           190,
           22860,
           2170,
           1804,
           1172,
           3160,
           22835,
           30447,
           24227,
           10319,
           6218,
           40020,
           69716,
           11149,
           7941,
           8203,
           61958,
           21145,
           318577,
           12655,
           134068,
           123301,
           8222
          ]
         },
         "node": {
          "color": [
           "rgba(44, 160, 44, 0.8)",
           "rgba(255, 127, 14, 0.8)",
           "rgba(44, 160, 44, 0.8)",
           "rgba(214, 39, 40, 0.8)",
           "rgba(148, 103, 189, 0.8)",
           "rgba(140, 86, 75, 0.8)",
           "rgba(227, 119, 194, 0.8)",
           "rgba(127, 127, 127, 0.8)",
           "rgba(188, 189, 34, 0.8)",
           "rgba(23, 190, 207, 0.8)",
           "rgba(31, 119, 180, 0.8)",
           "rgba(255, 127, 14, 0.8)",
           "rgba(214, 39, 40, 0.8)",
           "rgba(31, 119, 180, 0.8)",
           "rgba(148, 103, 189, 0.8)"
          ],
          "label": [
           "sugarcane",
           "juice extraction",
           "sulphur",
           "phosphoric acid",
           "lime",
           "juice treatment",
           "juice evaporation",
           "sugar production",
           "fermentation",
           "distillation",
           "cogeneration",
           "water tank",
           "exergy destruction",
           "make up water",
           "out"
          ],
          "line": {
           "color": "black",
           "width": 0.5
          },
          "pad": 15,
          "thickness": 20
         },
         "type": "sankey",
         "valueformat": ".0f",
         "valuesuffix": " kW"
        }
       ],
       "layout": {
        "font": {
         "size": 10
        },
        "template": {
         "data": {
          "bar": [
           {
            "error_x": {
             "color": "#2a3f5f"
            },
            "error_y": {
             "color": "#2a3f5f"
            },
            "marker": {
             "line": {
              "color": "#E5ECF6",
              "width": 0.5
             },
             "pattern": {
              "fillmode": "overlay",
              "size": 10,
              "solidity": 0.2
             }
            },
            "type": "bar"
           }
          ],
          "barpolar": [
           {
            "marker": {
             "line": {
              "color": "#E5ECF6",
              "width": 0.5
             },
             "pattern": {
              "fillmode": "overlay",
              "size": 10,
              "solidity": 0.2
             }
            },
            "type": "barpolar"
           }
          ],
          "carpet": [
           {
            "aaxis": {
             "endlinecolor": "#2a3f5f",
             "gridcolor": "white",
             "linecolor": "white",
             "minorgridcolor": "white",
             "startlinecolor": "#2a3f5f"
            },
            "baxis": {
             "endlinecolor": "#2a3f5f",
             "gridcolor": "white",
             "linecolor": "white",
             "minorgridcolor": "white",
             "startlinecolor": "#2a3f5f"
            },
            "type": "carpet"
           }
          ],
          "choropleth": [
           {
            "colorbar": {
             "outlinewidth": 0,
             "ticks": ""
            },
            "type": "choropleth"
           }
          ],
          "contour": [
           {
            "colorbar": {
             "outlinewidth": 0,
             "ticks": ""
            },
            "colorscale": [
             [
              0,
              "#0d0887"
             ],
             [
              0.1111111111111111,
              "#46039f"
             ],
             [
              0.2222222222222222,
              "#7201a8"
             ],
             [
              0.3333333333333333,
              "#9c179e"
             ],
             [
              0.4444444444444444,
              "#bd3786"
             ],
             [
              0.5555555555555556,
              "#d8576b"
             ],
             [
              0.6666666666666666,
              "#ed7953"
             ],
             [
              0.7777777777777778,
              "#fb9f3a"
             ],
             [
              0.8888888888888888,
              "#fdca26"
             ],
             [
              1,
              "#f0f921"
             ]
            ],
            "type": "contour"
           }
          ],
          "contourcarpet": [
           {
            "colorbar": {
             "outlinewidth": 0,
             "ticks": ""
            },
            "type": "contourcarpet"
           }
          ],
          "heatmap": [
           {
            "colorbar": {
             "outlinewidth": 0,
             "ticks": ""
            },
            "colorscale": [
             [
              0,
              "#0d0887"
             ],
             [
              0.1111111111111111,
              "#46039f"
             ],
             [
              0.2222222222222222,
              "#7201a8"
             ],
             [
              0.3333333333333333,
              "#9c179e"
             ],
             [
              0.4444444444444444,
              "#bd3786"
             ],
             [
              0.5555555555555556,
              "#d8576b"
             ],
             [
              0.6666666666666666,
              "#ed7953"
             ],
             [
              0.7777777777777778,
              "#fb9f3a"
             ],
             [
              0.8888888888888888,
              "#fdca26"
             ],
             [
              1,
              "#f0f921"
             ]
            ],
            "type": "heatmap"
           }
          ],
          "heatmapgl": [
           {
            "colorbar": {
             "outlinewidth": 0,
             "ticks": ""
            },
            "colorscale": [
             [
              0,
              "#0d0887"
             ],
             [
              0.1111111111111111,
              "#46039f"
             ],
             [
              0.2222222222222222,
              "#7201a8"
             ],
             [
              0.3333333333333333,
              "#9c179e"
             ],
             [
              0.4444444444444444,
              "#bd3786"
             ],
             [
              0.5555555555555556,
              "#d8576b"
             ],
             [
              0.6666666666666666,
              "#ed7953"
             ],
             [
              0.7777777777777778,
              "#fb9f3a"
             ],
             [
              0.8888888888888888,
              "#fdca26"
             ],
             [
              1,
              "#f0f921"
             ]
            ],
            "type": "heatmapgl"
           }
          ],
          "histogram": [
           {
            "marker": {
             "pattern": {
              "fillmode": "overlay",
              "size": 10,
              "solidity": 0.2
             }
            },
            "type": "histogram"
           }
          ],
          "histogram2d": [
           {
            "colorbar": {
             "outlinewidth": 0,
             "ticks": ""
            },
            "colorscale": [
             [
              0,
              "#0d0887"
             ],
             [
              0.1111111111111111,
              "#46039f"
             ],
             [
              0.2222222222222222,
              "#7201a8"
             ],
             [
              0.3333333333333333,
              "#9c179e"
             ],
             [
              0.4444444444444444,
              "#bd3786"
             ],
             [
              0.5555555555555556,
              "#d8576b"
             ],
             [
              0.6666666666666666,
              "#ed7953"
             ],
             [
              0.7777777777777778,
              "#fb9f3a"
             ],
             [
              0.8888888888888888,
              "#fdca26"
             ],
             [
              1,
              "#f0f921"
             ]
            ],
            "type": "histogram2d"
           }
          ],
          "histogram2dcontour": [
           {
            "colorbar": {
             "outlinewidth": 0,
             "ticks": ""
            },
            "colorscale": [
             [
              0,
              "#0d0887"
             ],
             [
              0.1111111111111111,
              "#46039f"
             ],
             [
              0.2222222222222222,
              "#7201a8"
             ],
             [
              0.3333333333333333,
              "#9c179e"
             ],
             [
              0.4444444444444444,
              "#bd3786"
             ],
             [
              0.5555555555555556,
              "#d8576b"
             ],
             [
              0.6666666666666666,
              "#ed7953"
             ],
             [
              0.7777777777777778,
              "#fb9f3a"
             ],
             [
              0.8888888888888888,
              "#fdca26"
             ],
             [
              1,
              "#f0f921"
             ]
            ],
            "type": "histogram2dcontour"
           }
          ],
          "mesh3d": [
           {
            "colorbar": {
             "outlinewidth": 0,
             "ticks": ""
            },
            "type": "mesh3d"
           }
          ],
          "parcoords": [
           {
            "line": {
             "colorbar": {
              "outlinewidth": 0,
              "ticks": ""
             }
            },
            "type": "parcoords"
           }
          ],
          "pie": [
           {
            "automargin": true,
            "type": "pie"
           }
          ],
          "scatter": [
           {
            "fillpattern": {
             "fillmode": "overlay",
             "size": 10,
             "solidity": 0.2
            },
            "type": "scatter"
           }
          ],
          "scatter3d": [
           {
            "line": {
             "colorbar": {
              "outlinewidth": 0,
              "ticks": ""
             }
            },
            "marker": {
             "colorbar": {
              "outlinewidth": 0,
              "ticks": ""
             }
            },
            "type": "scatter3d"
           }
          ],
          "scattercarpet": [
           {
            "marker": {
             "colorbar": {
              "outlinewidth": 0,
              "ticks": ""
             }
            },
            "type": "scattercarpet"
           }
          ],
          "scattergeo": [
           {
            "marker": {
             "colorbar": {
              "outlinewidth": 0,
              "ticks": ""
             }
            },
            "type": "scattergeo"
           }
          ],
          "scattergl": [
           {
            "marker": {
             "colorbar": {
              "outlinewidth": 0,
              "ticks": ""
             }
            },
            "type": "scattergl"
           }
          ],
          "scattermapbox": [
           {
            "marker": {
             "colorbar": {
              "outlinewidth": 0,
              "ticks": ""
             }
            },
            "type": "scattermapbox"
           }
          ],
          "scatterpolar": [
           {
            "marker": {
             "colorbar": {
              "outlinewidth": 0,
              "ticks": ""
             }
            },
            "type": "scatterpolar"
           }
          ],
          "scatterpolargl": [
           {
            "marker": {
             "colorbar": {
              "outlinewidth": 0,
              "ticks": ""
             }
            },
            "type": "scatterpolargl"
           }
          ],
          "scatterternary": [
           {
            "marker": {
             "colorbar": {
              "outlinewidth": 0,
              "ticks": ""
             }
            },
            "type": "scatterternary"
           }
          ],
          "surface": [
           {
            "colorbar": {
             "outlinewidth": 0,
             "ticks": ""
            },
            "colorscale": [
             [
              0,
              "#0d0887"
             ],
             [
              0.1111111111111111,
              "#46039f"
             ],
             [
              0.2222222222222222,
              "#7201a8"
             ],
             [
              0.3333333333333333,
              "#9c179e"
             ],
             [
              0.4444444444444444,
              "#bd3786"
             ],
             [
              0.5555555555555556,
              "#d8576b"
             ],
             [
              0.6666666666666666,
              "#ed7953"
             ],
             [
              0.7777777777777778,
              "#fb9f3a"
             ],
             [
              0.8888888888888888,
              "#fdca26"
             ],
             [
              1,
              "#f0f921"
             ]
            ],
            "type": "surface"
           }
          ],
          "table": [
           {
            "cells": {
             "fill": {
              "color": "#EBF0F8"
             },
             "line": {
              "color": "white"
             }
            },
            "header": {
             "fill": {
              "color": "#C8D4E3"
             },
             "line": {
              "color": "white"
             }
            },
            "type": "table"
           }
          ]
         },
         "layout": {
          "annotationdefaults": {
           "arrowcolor": "#2a3f5f",
           "arrowhead": 0,
           "arrowwidth": 1
          },
          "autotypenumbers": "strict",
          "coloraxis": {
           "colorbar": {
            "outlinewidth": 0,
            "ticks": ""
           }
          },
          "colorscale": {
           "diverging": [
            [
             0,
             "#8e0152"
            ],
            [
             0.1,
             "#c51b7d"
            ],
            [
             0.2,
             "#de77ae"
            ],
            [
             0.3,
             "#f1b6da"
            ],
            [
             0.4,
             "#fde0ef"
            ],
            [
             0.5,
             "#f7f7f7"
            ],
            [
             0.6,
             "#e6f5d0"
            ],
            [
             0.7,
             "#b8e186"
            ],
            [
             0.8,
             "#7fbc41"
            ],
            [
             0.9,
             "#4d9221"
            ],
            [
             1,
             "#276419"
            ]
           ],
           "sequential": [
            [
             0,
             "#0d0887"
            ],
            [
             0.1111111111111111,
             "#46039f"
            ],
            [
             0.2222222222222222,
             "#7201a8"
            ],
            [
             0.3333333333333333,
             "#9c179e"
            ],
            [
             0.4444444444444444,
             "#bd3786"
            ],
            [
             0.5555555555555556,
             "#d8576b"
            ],
            [
             0.6666666666666666,
             "#ed7953"
            ],
            [
             0.7777777777777778,
             "#fb9f3a"
            ],
            [
             0.8888888888888888,
             "#fdca26"
            ],
            [
             1,
             "#f0f921"
            ]
           ],
           "sequentialminus": [
            [
             0,
             "#0d0887"
            ],
            [
             0.1111111111111111,
             "#46039f"
            ],
            [
             0.2222222222222222,
             "#7201a8"
            ],
            [
             0.3333333333333333,
             "#9c179e"
            ],
            [
             0.4444444444444444,
             "#bd3786"
            ],
            [
             0.5555555555555556,
             "#d8576b"
            ],
            [
             0.6666666666666666,
             "#ed7953"
            ],
            [
             0.7777777777777778,
             "#fb9f3a"
            ],
            [
             0.8888888888888888,
             "#fdca26"
            ],
            [
             1,
             "#f0f921"
            ]
           ]
          },
          "colorway": [
           "#636efa",
           "#EF553B",
           "#00cc96",
           "#ab63fa",
           "#FFA15A",
           "#19d3f3",
           "#FF6692",
           "#B6E880",
           "#FF97FF",
           "#FECB52"
          ],
          "font": {
           "color": "#2a3f5f"
          },
          "geo": {
           "bgcolor": "white",
           "lakecolor": "white",
           "landcolor": "#E5ECF6",
           "showlakes": true,
           "showland": true,
           "subunitcolor": "white"
          },
          "hoverlabel": {
           "align": "left"
          },
          "hovermode": "closest",
          "mapbox": {
           "style": "light"
          },
          "paper_bgcolor": "white",
          "plot_bgcolor": "#E5ECF6",
          "polar": {
           "angularaxis": {
            "gridcolor": "white",
            "linecolor": "white",
            "ticks": ""
           },
           "bgcolor": "#E5ECF6",
           "radialaxis": {
            "gridcolor": "white",
            "linecolor": "white",
            "ticks": ""
           }
          },
          "scene": {
           "xaxis": {
            "backgroundcolor": "#E5ECF6",
            "gridcolor": "white",
            "gridwidth": 2,
            "linecolor": "white",
            "showbackground": true,
            "ticks": "",
            "zerolinecolor": "white"
           },
           "yaxis": {
            "backgroundcolor": "#E5ECF6",
            "gridcolor": "white",
            "gridwidth": 2,
            "linecolor": "white",
            "showbackground": true,
            "ticks": "",
            "zerolinecolor": "white"
           },
           "zaxis": {
            "backgroundcolor": "#E5ECF6",
            "gridcolor": "white",
            "gridwidth": 2,
            "linecolor": "white",
            "showbackground": true,
            "ticks": "",
            "zerolinecolor": "white"
           }
          },
          "shapedefaults": {
           "line": {
            "color": "#2a3f5f"
           }
          },
          "ternary": {
           "aaxis": {
            "gridcolor": "white",
            "linecolor": "white",
            "ticks": ""
           },
           "baxis": {
            "gridcolor": "white",
            "linecolor": "white",
            "ticks": ""
           },
           "bgcolor": "#E5ECF6",
           "caxis": {
            "gridcolor": "white",
            "linecolor": "white",
            "ticks": ""
           }
          },
          "title": {
           "x": 0.05
          },
          "xaxis": {
           "automargin": true,
           "gridcolor": "white",
           "linecolor": "white",
           "ticks": "",
           "title": {
            "standoff": 15
           },
           "zerolinecolor": "white",
           "zerolinewidth": 2
          },
          "yaxis": {
           "automargin": true,
           "gridcolor": "white",
           "linecolor": "white",
           "ticks": "",
           "title": {
            "standoff": 15
           },
           "zerolinecolor": "white",
           "zerolinewidth": 2
          }
         }
        },
        "title": {
         "text": "<b>Sankey diagram for the sugarcane industry</b><br>Source: A. V. Ensinas, M. Modesto, S. A. Nebra, and L. Serra, “Reduction of irreversibility generation in sugar <br>and ethanol production from sugarcane,” Energy, vol. 34, no. 5, pp. 680–688, May 2009"
        }
       }
      }
     },
     "metadata": {},
     "output_type": "display_data"
    }
   ],
   "source": [
    "# override gray link colors with 'source' colors\n",
    "opacity = 0.4\n",
    "# change 'magenta' to its 'rgba' value to add opacity\n",
    "#data['data'][0]['node']['color'] = ['rgba(255,0,255, 0.8)' if color == \"magenta\" else color for color in data['data'][0]['node']['color']]\n",
    "#data['data'][0]['link']['color'] = [data['data'][0]['node']['color'][src].replace(\"0.8\", str(opacity))\n",
    "                                    #for src in data['data'][0]['link']['source']]\n",
    "\n",
    "fig = go.Figure(data=[go.Sankey(\n",
    "    arrangement = 'freeform',\n",
    "    valueformat = \".0f\",\n",
    "    valuesuffix = \" kW\",\n",
    "    # Define nodes\n",
    "    node = dict(\n",
    "      pad = 15,\n",
    "      thickness = 20,\n",
    "      line = dict(color = \"black\", width = 0.5),\n",
    "      #x = [0., 0.1, 0.5, 0.7, 0.3, 0.5],\n",
    "      #y = [0, 0.5, 0.35, 0.4, 0.35, 0.3],\n",
    "      label =  ls,\n",
    "      color = [\n",
    "        \"rgba(44, 160, 44, 0.8)\",   #sugarcane 0\n",
    "        \"rgba(255, 127, 14, 0.8)\",  #juice extraction 1 \n",
    "        \"rgba(44, 160, 44, 0.8)\",   #sulphur 2\n",
    "        \"rgba(214, 39, 40, 0.8)\",   #phosphoric acid 3\n",
    "        \"rgba(148, 103, 189, 0.8)\", #lime 4\n",
    "        \"rgba(140, 86, 75, 0.8)\",   #juice treatment 5\n",
    "        \"rgba(227, 119, 194, 0.8)\", #juice evaporation 6\n",
    "        \"rgba(127, 127, 127, 0.8)\", #sugar production 7\n",
    "        \"rgba(188, 189, 34, 0.8)\",  #fermentation 8\n",
    "        \"rgba(23, 190, 207, 0.8)\",  #distillation 9\n",
    "        \"rgba(31, 119, 180, 0.8)\",  #cogeneration 10\n",
    "        \"rgba(255, 127, 14, 0.8)\",  #water tank 11\n",
    "        \"rgba(214, 39, 40, 0.8)\",   #exergy destruction 12\n",
    "        \"rgba(31, 119, 180, 0.8)\",  #make up water 13\n",
    "        \"rgba(148, 103, 189, 0.8)\"  #out 14\n",
    "    ]\n",
    "    ),\n",
    "    # Add links\n",
    "    link = dict(\n",
    "      source =  source_sankey,\n",
    "      target =  target_sankey,\n",
    "      value =  value_sankey,\n",
    "      label =  label_sankey,\n",
    "      color =  [\n",
    "        \"rgba(44, 160, 44, 0.35)\",   #sugarcane 0\n",
    "        \"rgba(255, 127, 14, 0.35)\",  #water tank 11\n",
    "        \"rgba(255, 127, 14, 0.35)\",  #water tank 11\n",
    "        \"rgba(31, 119, 180, 0.35)\",  #cogeneration 10\n",
    "        \"rgba(31, 119, 180, 0.35)\",  #cogeneration 10\n",
    "        \"rgba(255, 127, 14, 0.35)\",  #juice extraction 1 \n",
    "        \"rgba(44, 160, 44, 0.35)\",   #sulphur 2\n",
    "        \"rgba(214, 39, 40, 0.35)\",   #phosphoric acid 3\n",
    "        \"rgba(148, 103, 189, 0.35)\", #lime 4\n",
    "        \"rgba(255, 127, 14, 0.35)\",  #water tank 11\n",
    "        \"rgba(31, 119, 180, 0.35)\",  #cogeneration 10\n",
    "        \"rgba(31, 119, 180, 0.35)\",  #cogeneration 10\n",
    "        \"rgba(140, 86, 75, 0.35)\",   #juice treatment 5\n",
    "        \"rgba(31, 119, 180, 0.35)\",  #cogeneration 10\n",
    "        \"rgba(255, 127, 14, 0.35)\",  #water tank 11\n",
    "        \"rgba(31, 119, 180, 0.35)\",  #cogeneration 10\n",
    "        \"rgba(227, 119, 194, 0.35)\", #juice evaporation 6\n",
    "        \"rgba(31, 119, 180, 0.35)\",  #cogeneration 10\n",
    "        \"rgba(255, 127, 14, 0.35)\",  #water tank 11\n",
    "        \"rgba(255, 127, 14, 0.35)\",  #water tank 11\n",
    "        \"rgba(31, 119, 180, 0.35)\",  #cogeneration 10\n",
    "        \"rgba(227, 119, 194, 0.35)\", #juice evaporation 6\n",
    "        \"rgba(140, 86, 75, 0.35)\",   #juice treatment 5\n",
    "        \"rgba(127, 127, 127, 0.35)\", #sugar production 7\n",
    "        \"rgba(255, 127, 14, 0.35)\",  #water tank 11\n",
    "        \"rgba(255, 127, 14, 0.35)\",  #water tank 11\n",
    "        \"rgba(31, 119, 180, 0.35)\",  #cogeneration 10\n",
    "        \"rgba(188, 189, 34, 0.35)\",  #fermentation 8\n",
    "        \"rgba(31, 119, 180, 0.35)\",  #cogeneration 10\n",
    "        \"rgba(255, 127, 14, 0.35)\",  #water tank 11\n",
    "        \"rgba(31, 119, 180, 0.35)\",  #cogeneration 10\n",
    "        \"rgba(255, 127, 14, 0.35)\",  #juice extraction 1\n",
    "        \"rgba(31, 119, 180, 0.35)\",  #make up water 13\n",
    "        \"rgba(255, 127, 14, 0.35)\",  #juice extraction 1\n",
    "        \"rgba(140, 86, 75, 0.35)\",   #juice treatment 5\n",
    "        \"rgba(227, 119, 194, 0.35)\", #juice evaporation 6\n",
    "        \"rgba(127, 127, 127, 0.35)\", #sugar production 7\n",
    "        \"rgba(23, 190, 207, 0.35)\",  #distillation 9\n",
    "        \"rgba(188, 189, 34, 0.35)\",  #fermentation 8\n",
    "        \"rgba(23, 190, 207, 0.35)\",  #distillation 9\n",
    "        \"rgba(227, 119, 194, 0.35)\", #juice evaporation 6\n",
    "        \"rgba(127, 127, 127, 0.35)\", #sugar production 7\n",
    "        \"rgba(227, 119, 194, 0.35)\", #juice evaporation 6\n",
    "        \"rgba(31, 119, 180, 0.35)\",  #make up water 13\n",
    "        \"rgba(214, 39, 40, 0.35)\",   #exergy destruction\n",
    "        \"rgba(214, 39, 40, 0.35)\",   #exergy destruction\n",
    "        \"rgba(214, 39, 40, 0.35)\",   #exergy destruction\n",
    "        \"rgba(214, 39, 40, 0.35)\",   #exergy destruction\n",
    "        \"rgba(214, 39, 40, 0.35)\",   #exergy destruction\n",
    "        \"rgba(214, 39, 40, 0.35)\",   #exergy destruction\n",
    "        \"rgba(214, 39, 40, 0.35)\",   #exergy destruction\n",
    "        \"rgba(214, 39, 40, 0.35)\",   #exergy destruction\n",
    "        \"rgba(23, 190, 207, 0.35)\",  #distillation 9\n",
    "        \"rgba(127, 127, 127, 0.35)\", #sugar production 7\n",
    "        \"rgba(31, 119, 180, 0.35)\"  #cogeneration 10\n",
    "    ]\n",
    "))])\n",
    "\n",
    "fig.update_layout(title_text=\"<b>Sankey diagram for the sugarcane industry</b><br>Source: A. V. Ensinas, M. Modesto, S. A. Nebra, and L. Serra, “Reduction of irreversibility generation in sugar <br>and ethanol production from sugarcane,” Energy, vol. 34, no. 5, pp. 680–688, May 2009\",\n",
    "                  font_size=10)\n",
    "fig.write_html('sankey_diagram')\n",
    "fig.show()\n"
   ]
  },
  {
   "cell_type": "code",
   "execution_count": 3,
   "metadata": {},
   "outputs": [],
   "source": [
    "COD = 30\n",
    "R = 8.314462618\n",
    "\n",
    "#convert celsius to kelvin and vice-versa\n",
    "def temperature(t, s):\n",
    "    if s.lower() == 'c':\n",
    "        t += -273.15\n",
    "    elif s.lower() == 'k':\n",
    "        t += 273.15\n",
    "    return t\n",
    "#convert bar to pascal or vice versa\n",
    "def pressure(p, s):\n",
    "    if s.lower() == 'bar':\n",
    "        p = p / 100000\n",
    "    elif s.lower() == 'pa':\n",
    "        p = p * 100000\n",
    "    return p\n",
    "\n",
    "def v_ch4(p, T, n, y_meth, y_acid, t_so4, cod):\n",
    "    #p = pressure in the anaerobic reactor (Pa)\n",
    "    #T = temperature in the anaerobic reactor (K)\n",
    "    #n = removal efficiency of organic matter\n",
    "    #y_meth = yield coefficient for acidogenic\n",
    "    #y_acid = yield coefficient for methanogenic microorganisms\n",
    "    #t_so4 = sulfate concentration in vinasse in kg/m3\n",
    "    cod_r = cod * (1 - t_so4 * 2 / 3) * (1 - (y_meth - y_acid * (1 - y_meth)))\n",
    "    #cod_r is the cod avaiable for methane production. t_so4 * 2 / 3 means that each 1.5 kg of SO4 that is produced, 1 kg of oxygen is needed\n",
    "    return n * R * T * cod_r / (0.064 * p) # 0.064 means that 0.064 kg of oxygen is needed for 1 mol of CH4 that is produced"
   ]
  },
  {
   "cell_type": "code",
   "execution_count": 4,
   "metadata": {},
   "outputs": [],
   "source": [
    "p0 = pressure(1.01325, 'pa')\n",
    "\n",
    "parameter_9 = [\n",
    "    0.3,   #[0] kg of bicarbonate/kg of COD. Source: I. Alves, “Caracterização de grânulos \n",
    "#de reator UASB empregado no processamento de vinhaça,” text, Universidade de São Paulo, 2015. doi: 10.11606/D.18.2015.tde-\n",
    "### ---> Source: C. A. de Lemos Chernicharo, Anaerobic reactors. London: IWA Publ. [u.a.], 2007. ###    \n",
    "    0.75,  #[1] removal efficiency of organic matter\n",
    "    0.03,  #[2] yield coefficient for methanogenic microorganisms\n",
    "    0.15,  #[3] yield coefficient for acidogenic microorganisms\n",
    "    0.05,  #[4] solids concentration in the sludge (fraction)\n",
    "    0.2,   #[5] yield or solids production coefficient (kgTSS/kgCOD)\n",
    "### <--- Source: C. A. de Lemos Chernicharo, Anaerobic reactors. London: IWA Publ. [u.a.], 2007. ###\n",
    "    10,    #[6] kg of NaOH /m3 of solution\n",
    "    3.5,   #[7] kg of NaOH/kgH2S\n",
    "    0.0002 #[8] final concentration of H2S in biogas\n",
    "]\n",
    "pressure_9 = [\n",
    "    p0 #[0] pressure in the anaerobic reactor (Pa)\n",
    "]\n",
    "temperature_9 = [\n",
    "    35, #[0] temperature in the anaerobic reactor in C\n",
    "    15  #[1] temperature of naoh solution\n",
    "]"
   ]
  },
  {
   "cell_type": "code",
   "execution_count": 5,
   "metadata": {},
   "outputs": [
    {
     "name": "stdout",
     "output_type": "stream",
     "text": [
      "0.2651747054131219\n"
     ]
    }
   ],
   "source": [
    "v_methane = v_ch4(pressure_9[0], temperature(temperature_9[0], 'k'), parameter_9[1], parameter_9[2], parameter_9[3], 1.149, COD) #m3 of methane/m3 of vinasse\n",
    "v_biogas = v_methane / 0.6 #m3 of biogas/m3 of vinasse\n",
    "\n",
    "print(v_biogas * (0.648*0.6 + 1.784*0.4)  * 13.7 * 4.54 / 1000) #kg/s of biogas "
   ]
  }
 ],
 "metadata": {
  "interpreter": {
   "hash": "874a61f7400d70abeb7d26a58a6a9af3399687bc72d6c0ac5292c63453de98b0"
  },
  "kernelspec": {
   "display_name": "Python 3.9.7 ('base')",
   "language": "python",
   "name": "python3"
  },
  "language_info": {
   "codemirror_mode": {
    "name": "ipython",
    "version": 3
   },
   "file_extension": ".py",
   "mimetype": "text/x-python",
   "name": "python",
   "nbconvert_exporter": "python",
   "pygments_lexer": "ipython3",
   "version": "3.9.7"
  },
  "orig_nbformat": 4
 },
 "nbformat": 4,
 "nbformat_minor": 2
}
